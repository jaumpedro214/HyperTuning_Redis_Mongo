{
 "cells": [
  {
   "cell_type": "markdown",
   "metadata": {},
   "source": [
    "# MongoDB -  Consultas"
   ]
  },
  {
   "cell_type": "markdown",
   "metadata": {},
   "source": [
    "Autores - João Pedro da S. Lima, Pedro Henrique A. Cardoso"
   ]
  },
  {
   "cell_type": "markdown",
   "metadata": {},
   "source": [
    "Este notebook contém exemplos de consultas que podem ser feitas no MongoDB para avaliarmos nossos resultados."
   ]
  },
  {
   "cell_type": "markdown",
   "metadata": {},
   "source": [
    "## Importando biblioteca e conectando ao cliente"
   ]
  },
  {
   "cell_type": "code",
   "execution_count": 1,
   "metadata": {
    "scrolled": false
   },
   "outputs": [
    {
     "name": "stdout",
     "output_type": "stream",
     "text": [
      "Requirement already satisfied: pymongo in /home/joao/anaconda3/lib/python3.7/site-packages (3.11.3)\n",
      "\u001b[33mWARNING: You are using pip version 21.0.1; however, version 21.1 is available.\n",
      "You should consider upgrading via the '/home/joao/anaconda3/bin/python3 -m pip install --upgrade pip' command.\u001b[0m\n"
     ]
    }
   ],
   "source": [
    "!pip install pymongo"
   ]
  },
  {
   "cell_type": "code",
   "execution_count": 2,
   "metadata": {},
   "outputs": [],
   "source": [
    "# Imports iniciais\n",
    "import pymongo\n",
    "\n",
    "# Imports para ajudar na visualização\n",
    "from pprint import pprint\n",
    "\n",
    "# Conectando ao cliente local na port 27017\n",
    "client = pymongo.MongoClient('localhost',27017)"
   ]
  },
  {
   "cell_type": "code",
   "execution_count": 3,
   "metadata": {},
   "outputs": [],
   "source": [
    "db = client.mongo_db"
   ]
  },
  {
   "cell_type": "markdown",
   "metadata": {},
   "source": [
    "## Exemplos de consultas"
   ]
  },
  {
   "cell_type": "markdown",
   "metadata": {},
   "source": [
    "Começaremos com algumas consultas simples"
   ]
  },
  {
   "cell_type": "markdown",
   "metadata": {},
   "source": [
    "**Consulta A.1:** Buscar todos os resultados de um modelo treinado em uma determinada base"
   ]
  },
  {
   "cell_type": "code",
   "execution_count": 4,
   "metadata": {},
   "outputs": [
    {
     "name": "stdout",
     "output_type": "stream",
     "text": [
      "{'_id': ObjectId('6083b75e98e01f8c039f551d'),\n",
      " 'name': 'SVR',\n",
      " 'params': {'C': 1.0,\n",
      "            'cache_size': 200,\n",
      "            'coef0': 0.0,\n",
      "            'degree': 2,\n",
      "            'epsilon': 0.1,\n",
      "            'gamma': 'auto_deprecated',\n",
      "            'kernel': 'linear',\n",
      "            'max_iter': -1,\n",
      "            'shrinking': True,\n",
      "            'tol': 0.001,\n",
      "            'verbose': False}}\n",
      "{'_id': ObjectId('6083b7805ee059cff85aba53'),\n",
      " 'name': 'SVR',\n",
      " 'params': {'C': 0.001,\n",
      "            'cache_size': 200,\n",
      "            'coef0': 0.0,\n",
      "            'degree': 2,\n",
      "            'epsilon': 0.1,\n",
      "            'gamma': 'auto_deprecated',\n",
      "            'kernel': 'poly',\n",
      "            'max_iter': -1,\n",
      "            'shrinking': True,\n",
      "            'tol': 0.001,\n",
      "            'verbose': False}}\n",
      "{'_id': ObjectId('6083b7cb5ee059cff85aba56'),\n",
      " 'name': 'SVR',\n",
      " 'params': {'C': 10,\n",
      "            'cache_size': 200,\n",
      "            'coef0': 0.0,\n",
      "            'degree': 2,\n",
      "            'epsilon': 0.1,\n",
      "            'gamma': 'auto_deprecated',\n",
      "            'kernel': 'linear',\n",
      "            'max_iter': -1,\n",
      "            'shrinking': True,\n",
      "            'tol': 0.001,\n",
      "            'verbose': False}}\n"
     ]
    }
   ],
   "source": [
    "cursor = db.doc_table.find({\"database\" : \"boston\"},\n",
    "                           {\"name\" : 1, \"params\" : 1}).limit(3)\n",
    "\n",
    "for doc in cursor:\n",
    "    pprint(doc)"
   ]
  },
  {
   "cell_type": "markdown",
   "metadata": {},
   "source": [
    "**Consulta A.2:** Buscar modelos por nome"
   ]
  },
  {
   "cell_type": "code",
   "execution_count": 5,
   "metadata": {
    "scrolled": false
   },
   "outputs": [
    {
     "name": "stdout",
     "output_type": "stream",
     "text": [
      "{'_id': ObjectId('6083bc7b779724d204c70a0d'),\n",
      " 'name': 'RandomForestRegressor',\n",
      " 'scores': {'fit_time': 0.001967012882232666,\n",
      "            'score_time': 0.0007674098014831543,\n",
      "            'test_neg_mean_squared_error': -32.088757655293094,\n",
      "            'test_r2': 0.3627544928658441,\n",
      "            'train_neg_mean_squared_error': -6.925298569643106,\n",
      "            'train_r2': 0.9159931323778359}}\n",
      "{'_id': ObjectId('6083bc7b779724d204c70a0e'),\n",
      " 'name': 'RandomForestRegressor',\n",
      " 'scores': {'fit_time': 0.02811962366104126,\n",
      "            'score_time': 0.0027168989181518555,\n",
      "            'test_neg_mean_squared_error': -22.780824161042368,\n",
      "            'test_r2': 0.5562008318433966,\n",
      "            'train_neg_mean_squared_error': -1.9608386963616165,\n",
      "            'train_r2': 0.9759755996977673}}\n",
      "{'_id': ObjectId('6083bc83779724d204c70a10'),\n",
      " 'name': 'RandomForestRegressor',\n",
      " 'scores': {'fit_time': 1.478890061378479,\n",
      "            'score_time': 0.07430434226989746,\n",
      "            'test_neg_mean_squared_error': -21.667519918362743,\n",
      "            'test_r2': 0.5797378841842773,\n",
      "            'train_neg_mean_squared_error': -1.4247502029218828,\n",
      "            'train_r2': 0.9824477369235751}}\n"
     ]
    }
   ],
   "source": [
    "cursor = db.doc_table.find({\n",
    "                            \"$or\" : [\n",
    "                                     {\"name\" : \"RandomForestRegressor\"},\n",
    "                                     {\"name\" : \"Ridge\"}\n",
    "                                    ]\n",
    "                           }, \n",
    "                           {\"name\" : 1, \"scores\" : 1}).limit(3)\n",
    "\n",
    "for doc in cursor:\n",
    "        pprint(doc)"
   ]
  },
  {
   "cell_type": "markdown",
   "metadata": {},
   "source": [
    "**Consulta A.3:** Buscar pela maior pontuação em uma determinada métrica"
   ]
  },
  {
   "cell_type": "code",
   "execution_count": 6,
   "metadata": {
    "scrolled": true
   },
   "outputs": [
    {
     "name": "stdout",
     "output_type": "stream",
     "text": [
      "{'name': 'RandomForestRegressor', 'scores': {'test_r2': 0.6050912044057074}}\n"
     ]
    }
   ],
   "source": [
    "#metrica : test r2\n",
    "\n",
    "cursor = db.doc_table.find({\n",
    "                            \"scores.test_r2\":{\"$exists\":True}\n",
    "                           }, \n",
    "                           {\"name\":1, \n",
    "                            \"_id\":0, \n",
    "                            \"scores\":{\"test_r2\":1}\n",
    "                           }\n",
    "                          ).limit(1)\n",
    "\n",
    "cursor = cursor.sort(\"scores.test_r2\", -1)\n",
    "for doc in cursor:\n",
    "        pprint(doc)"
   ]
  },
  {
   "cell_type": "code",
   "execution_count": 7,
   "metadata": {},
   "outputs": [
    {
     "name": "stdout",
     "output_type": "stream",
     "text": [
      "{'name': 'RandomForestClassifier',\n",
      " 'scores': {'test_accuracy': 0.9732905982905983}}\n"
     ]
    }
   ],
   "source": [
    "#metrica : test accuracy\n",
    "\n",
    "cursor = db.doc_table.find({\n",
    "                            \"scores.test_accuracy\":{\"$exists\":True}\n",
    "                           }, \n",
    "                           {\n",
    "                            \"name\":1, \n",
    "                            \"_id\":0, \n",
    "                            \"scores\":{\"test_accuracy\":1}\n",
    "                           }\n",
    "                          ).limit(1)\n",
    "\n",
    "cursor = cursor.sort(\"scores.test_accuracy\", -1)\n",
    "for doc in cursor:\n",
    "        pprint(doc)"
   ]
  },
  {
   "cell_type": "markdown",
   "metadata": {},
   "source": [
    "**Consulta A.4:** Buscar pela maior pontuação em alguma métrica em uma determinada base"
   ]
  },
  {
   "cell_type": "code",
   "execution_count": 8,
   "metadata": {},
   "outputs": [
    {
     "name": "stdout",
     "output_type": "stream",
     "text": [
      "{'database': 'boston',\n",
      " 'name': 'RandomForestRegressor',\n",
      " 'scores': {'test_r2': 0.6050912044057074}}\n"
     ]
    }
   ],
   "source": [
    "#database : boston\n",
    "#metrica : test_r2\n",
    "\n",
    "cursor = db.doc_table.find(\n",
    "                           {\n",
    "                            \"database\": \"boston\"\n",
    "                           },\n",
    "                           {\n",
    "                            \"name\" : 1, \n",
    "                            \"_id\" : 0, \n",
    "                            \"database\": 1, \n",
    "                            \"scores\" :{\"test_r2\":1}\n",
    "                           }\n",
    "                          )\n",
    "\n",
    "cursor = cursor.sort(\"scores.test_r2\", -1).limit(1)\n",
    "for doc in cursor:\n",
    "        pprint(doc)"
   ]
  },
  {
   "cell_type": "markdown",
   "metadata": {},
   "source": [
    "**Consulta A.5:** Contar quantos modelos são avaliados com uma determinada métrica"
   ]
  },
  {
   "cell_type": "code",
   "execution_count": 9,
   "metadata": {},
   "outputs": [
    {
     "name": "stdout",
     "output_type": "stream",
     "text": [
      "Número de documentos avaliados com ACURÁCIA no TESTE: 1221\n"
     ]
    },
    {
     "name": "stderr",
     "output_type": "stream",
     "text": [
      "/home/joao/anaconda3/lib/python3.7/site-packages/ipykernel_launcher.py:2: DeprecationWarning: count is deprecated. Use Collection.count_documents instead.\n",
      "  \n"
     ]
    }
   ],
   "source": [
    "cursor = db.doc_table.find(\n",
    "                           {\n",
    "                               \"scores.test_accuracy\":{\"$exists\":True}\n",
    "                           }\n",
    "                          ).limit(3)\n",
    "cont = cursor.count()\n",
    "print ('Número de documentos avaliados com ACURÁCIA no TESTE:', cont)"
   ]
  },
  {
   "cell_type": "markdown",
   "metadata": {},
   "source": [
    "**Consulta A.6:** Retornar os modelos com um determinado nome que foram treinados em uma determinada base"
   ]
  },
  {
   "cell_type": "code",
   "execution_count": 41,
   "metadata": {},
   "outputs": [
    {
     "name": "stdout",
     "output_type": "stream",
     "text": [
      "{'database': 'boston',\n",
      " 'name': 'Ridge',\n",
      " 'scores': {'fit_time': 0.010999202728271484,\n",
      "            'score_time': 0.0011339783668518066,\n",
      "            'test_neg_mean_squared_error': -40.75210850730088,\n",
      "            'test_r2': 0.14851973789321776,\n",
      "            'train_neg_mean_squared_error': -22.792717532079457,\n",
      "            'train_r2': 0.7217296061961568}}\n",
      "{'database': 'boston',\n",
      " 'name': 'Ridge',\n",
      " 'scores': {'fit_time': 0.0011656880378723145,\n",
      "            'score_time': 0.0012121200561523438,\n",
      "            'test_neg_mean_squared_error': -40.75210850730088,\n",
      "            'test_r2': 0.14851973789321776,\n",
      "            'train_neg_mean_squared_error': -22.792717532079457,\n",
      "            'train_r2': 0.7217296061961568}}\n",
      "{'database': 'boston',\n",
      " 'name': 'Ridge',\n",
      " 'scores': {'fit_time': 0.0010777115821838379,\n",
      "            'score_time': 0.0011426806449890137,\n",
      "            'test_neg_mean_squared_error': -40.75210850730088,\n",
      "            'test_r2': 0.14851973789321776,\n",
      "            'train_neg_mean_squared_error': -22.792717532079457,\n",
      "            'train_r2': 0.7217296061961568}}\n"
     ]
    }
   ],
   "source": [
    "#nome : Ridge\n",
    "#database : boston\n",
    "\n",
    "cursor = db.doc_table.find(\n",
    "                           {\n",
    "                            \"database\":\"boston\", \n",
    "                            \"name\":\"Ridge\"\n",
    "                           },\n",
    "                           {\n",
    "                            \"name\" : 1, \n",
    "                            \"_id\" : 0,\n",
    "                            \"database\": 1, \n",
    "                            \"scores\" : 1\n",
    "                           }\n",
    "                          ).limit(3)\n",
    "\n",
    "for doc in cursor:\n",
    "        pprint(doc)"
   ]
  },
  {
   "cell_type": "markdown",
   "metadata": {},
   "source": [
    "**Consulta A.7:** Encontrar modelos com métrica em um intervalo específico"
   ]
  },
  {
   "cell_type": "code",
   "execution_count": 11,
   "metadata": {},
   "outputs": [
    {
     "name": "stdout",
     "output_type": "stream",
     "text": [
      "{'database': 'diabetes',\n",
      " 'name': 'SVR',\n",
      " 'scores': {'test_r2': 0.43983215751749444}}\n",
      "{'database': 'boston',\n",
      " 'name': 'SVR',\n",
      " 'scores': {'test_r2': 0.42265768153125205}}\n",
      "{'database': 'boston',\n",
      " 'name': 'RandomForestRegressor',\n",
      " 'scores': {'test_r2': 0.3627544928658441}}\n",
      "{'database': 'boston',\n",
      " 'name': 'RandomForestRegressor',\n",
      " 'scores': {'test_r2': 0.36526807869555084}}\n",
      "{'database': 'boston',\n",
      " 'name': 'RandomForestRegressor',\n",
      " 'scores': {'test_r2': 0.4187578441307834}}\n",
      "{'database': 'boston',\n",
      " 'name': 'RandomForestRegressor',\n",
      " 'scores': {'test_r2': 0.3601357240868527}}\n",
      "{'database': 'boston',\n",
      " 'name': 'RandomForestRegressor',\n",
      " 'scores': {'test_r2': 0.367484203925967}}\n",
      "{'database': 'boston',\n",
      " 'name': 'RandomForestRegressor',\n",
      " 'scores': {'test_r2': 0.30935241962808413}}\n",
      "{'database': 'boston',\n",
      " 'name': 'RandomForestRegressor',\n",
      " 'scores': {'test_r2': 0.48688926798334053}}\n",
      "{'database': 'boston',\n",
      " 'name': 'RandomForestRegressor',\n",
      " 'scores': {'test_r2': 0.40361383834821796}}\n"
     ]
    }
   ],
   "source": [
    "#ENCONTRAR MODELOS COM ALGUMA MÉTRICA EM UM INTERVALO ESPECÍFICO\n",
    "#metrica : test_r2\n",
    "#intervalo : 0.3 < x < 0.5\n",
    "\n",
    "\n",
    "cursor = db.doc_table.find(\n",
    "                           {\n",
    "                            \"$and\":[\n",
    "                                    {\"scores.test_r2\":{\"$lt\":0.5}},\n",
    "                                    {\"scores.test_r2\":{\"$gt\":0.3}}\n",
    "                                   ]\n",
    "                           },\n",
    "                           {\n",
    "                            \"name\":1, \n",
    "                            \"_id\" : 0,\n",
    "                            \"database\": 1, \n",
    "                            \"scores\":{\"test_r2\" : 1}\n",
    "                           }\n",
    "                          )\n",
    "\n",
    "cursor = cursor.limit(10)\n",
    "for doc in cursor:\n",
    "        pprint(doc)\n"
   ]
  },
  {
   "cell_type": "markdown",
   "metadata": {},
   "source": [
    "## Consultas aprofundadas"
   ]
  },
  {
   "cell_type": "markdown",
   "metadata": {},
   "source": [
    "Agora, demonstraremos como as consultas aggregate do mongo podem nos dar uma boa visão dos modelos avaliados"
   ]
  },
  {
   "cell_type": "markdown",
   "metadata": {},
   "source": [
    "**Consulta B.1:** Contar quantos modelos de cada tipo existem"
   ]
  },
  {
   "cell_type": "code",
   "execution_count": 13,
   "metadata": {},
   "outputs": [
    {
     "name": "stdout",
     "output_type": "stream",
     "text": [
      "{'_id': 'Ridge', 'total': 96}\n",
      "{'_id': 'SVR', 'total': 20}\n",
      "{'_id': 'RandomForestRegressor', 'total': 1152}\n",
      "{'_id': 'LogisticRegression', 'total': 69}\n",
      "{'_id': 'RandomForestClassifier', 'total': 1152}\n"
     ]
    }
   ],
   "source": [
    "cursor = db.doc_table.aggregate(\n",
    "                                [\n",
    "                                    {\n",
    "                                        \"$group\":{\n",
    "                                                  \"_id\":\"$name\", \n",
    "                                                  \"total\": {\"$sum\":1}\n",
    "                                                 }\n",
    "                                    }\n",
    "                                ]\n",
    "                               )\n",
    "\n",
    "for doc in cursor:\n",
    "        pprint(doc)"
   ]
  },
  {
   "cell_type": "markdown",
   "metadata": {},
   "source": [
    "Buscando modelos que não estão em Overfitting:\n",
    "\n",
    "**Consulta B.2:** Retornar todos os modelos cuja acurácia de treino supera a acurácia de teste em, no máximo, 10%"
   ]
  },
  {
   "cell_type": "code",
   "execution_count": 12,
   "metadata": {},
   "outputs": [
    {
     "name": "stdout",
     "output_type": "stream",
     "text": [
      "{'name': 'RandomForestClassifier',\n",
      " 'scores': {'test_accuracy': 0.9599358974358974,\n",
      "            'train_accuracy': 0.9755808440018966}}\n",
      "{'name': 'RandomForestClassifier',\n",
      " 'scores': {'test_accuracy': 0.9465811965811965,\n",
      "            'train_accuracy': 0.9688833570412518}}\n",
      "{'name': 'RandomForestClassifier',\n",
      " 'scores': {'test_accuracy': 0.9051881217374175,\n",
      "            'train_accuracy': 0.9256069202097833}}\n",
      "{'name': 'RandomForestClassifier',\n",
      " 'scores': {'test_accuracy': 0.9668803418803418,\n",
      "            'train_accuracy': 0.9755808440018966}}\n",
      "{'name': 'RandomForestClassifier',\n",
      " 'scores': {'test_accuracy': 0.9396367521367521,\n",
      "            'train_accuracy': 0.9600521574205785}}\n"
     ]
    }
   ],
   "source": [
    "cursor = db.doc_table.aggregate([\n",
    "                                 {\n",
    "                                     \"$match\":{\"scores.test_accuracy\":{\"$exists\":True} },\n",
    "                                 },\n",
    "                                 {\n",
    "                                     \"$set\":{\n",
    "                                             \"comp\":{\n",
    "                                                     \"$cmp\":[\n",
    "                                                              {\n",
    "                                                                \"$subtract\":[\"$scores.test_accuracy\", \n",
    "                                                                             \"$scores.train_accuracy\"]\n",
    "                                                              },\n",
    "                                                              0.1\n",
    "                                                            ]\n",
    "                                                     }\n",
    "                                            }\n",
    "                                 },\n",
    "                                 {\n",
    "                                     \"$match\":{\"comp\":-1}\n",
    "                                 },\n",
    "                                 {\n",
    "                                     \"$project\":{\n",
    "                                                 \"scores\":{\n",
    "                                                           \"test_accuracy\":1, \n",
    "                                                           \"train_accuracy\":1\n",
    "                                                          },\n",
    "                                                 \"_id\":0,\n",
    "                                                 \"name\":1\n",
    "                                                }\n",
    "                                 },\n",
    "                                 {\n",
    "                                     \"$sample\":{\"size\":5}\n",
    "                                 }\n",
    "                                ]\n",
    "                               )\n",
    "\n",
    "for doc in cursor:\n",
    "        pprint(doc)"
   ]
  },
  {
   "cell_type": "markdown",
   "metadata": {},
   "source": [
    "**Consulta B.3:** Contar quantos modelos foram treinados em uma base específica"
   ]
  },
  {
   "cell_type": "code",
   "execution_count": 14,
   "metadata": {
    "scrolled": false
   },
   "outputs": [
    {
     "name": "stdout",
     "output_type": "stream",
     "text": [
      "{'_id': 'boston', 'total': 634}\n"
     ]
    }
   ],
   "source": [
    "#database : boston\n",
    "\n",
    "cursor = db.doc_table.aggregate(\n",
    "                                [\n",
    "                                 {\n",
    "                                     \"$match\":{\n",
    "                                               \"database\": \"boston\"\n",
    "                                              }\n",
    "                                 },\n",
    "                                 {\n",
    "                                     \"$group\":{\n",
    "                                               \"_id\":\"$database\", \n",
    "                                               \"total\": {\"$sum\": 1}\n",
    "                                              }\n",
    "                                 }\n",
    "                                ]\n",
    "                               )\n",
    "\n",
    "for doc in cursor:\n",
    "        pprint(doc)"
   ]
  },
  {
   "cell_type": "markdown",
   "metadata": {},
   "source": [
    "**Consulta B.4:** Retornar o modelo com maior pontuação média em uma determinada métrica"
   ]
  },
  {
   "cell_type": "code",
   "execution_count": 15,
   "metadata": {},
   "outputs": [
    {
     "name": "stdout",
     "output_type": "stream",
     "text": [
      "{'_id': 'RandomForestRegressor', 'avgAmount': 0.4060676304783088}\n",
      "{'_id': 'Ridge', 'avgAmount': -0.9006692195839653}\n",
      "{'_id': 'SVR', 'avgAmount': -1559803.8107531858}\n"
     ]
    }
   ],
   "source": [
    "#metrica : test_r2\n",
    "\n",
    "cursor = db.doc_table.aggregate(\n",
    "                                [\n",
    "                                  {\n",
    "                                      \"$match\":{\n",
    "                                                \"scores.test_r2\": {\"$exists\": True}\n",
    "                                               }\n",
    "                                  },\n",
    "                                  {\n",
    "                                      \"$group\":{\n",
    "                                                \"_id\":\"$name\", \n",
    "                                                \"avgAmount\":{\"$avg\":\"$scores.test_r2\"}\n",
    "                                               }\n",
    "                                  }\n",
    "                                ]\n",
    "                               )\n",
    "\n",
    "for doc in cursor:\n",
    "        pprint(doc)"
   ]
  },
  {
   "cell_type": "markdown",
   "metadata": {},
   "source": [
    "Um problema que ocorreu durante o a avaliação da métrica $r^2$ foram os erros numéricos, o que nos deixa com valores negativos inconsistentes.\n",
    "\n",
    "Vamos refazer a busca anterior removendo esses valores"
   ]
  },
  {
   "cell_type": "code",
   "execution_count": 16,
   "metadata": {},
   "outputs": [
    {
     "name": "stdout",
     "output_type": "stream",
     "text": [
      "{'_id': 'RandomForestRegressor', 'avgAmount': 0.42727512260276934}\n",
      "{'_id': 'Ridge', 'avgAmount': 0.24422183244193776}\n",
      "{'_id': 'SVR', 'avgAmount': 0.29102535883886943}\n"
     ]
    }
   ],
   "source": [
    "#RETIRANDO VALORES NEGATIVOS\n",
    "\n",
    "cursor = db.doc_table.aggregate(\n",
    "                                [\n",
    "                                 {\n",
    "                                     \"$match\": {\n",
    "                                                \"scores.test_r2\": {\"$gt\": 0}\n",
    "                                               }\n",
    "                                 },\n",
    "                                 {\n",
    "                                     \"$match\": {\n",
    "                                                \"scores.test_r2\": {\"$exists\": True}\n",
    "                                               }\n",
    "                                 },\n",
    "                                 {\n",
    "                                     \"$group\": {\n",
    "                                                \"_id\":\"$name\", \n",
    "                                                \"avgAmount\": {\"$avg\":\"$scores.test_r2\"}\n",
    "                                               }\n",
    "                                 },\n",
    "                                ]\n",
    "                               )\n",
    "\n",
    "for doc in cursor:\n",
    "        pprint(doc)"
   ]
  },
  {
   "cell_type": "markdown",
   "metadata": {},
   "source": [
    "**Consulta B.5:** Retornar os valores mínimos, máximos, a média e o desvio padrão de alguma métrica"
   ]
  },
  {
   "cell_type": "code",
   "execution_count": 17,
   "metadata": {},
   "outputs": [
    {
     "name": "stdout",
     "output_type": "stream",
     "text": [
      "{'_id': 'total',\n",
      " 'avg': -908332.4698882014,\n",
      " 'max': -20.419178191577366,\n",
      " 'min': -1142260453.7588298,\n",
      " 'std': 32065486.05675491}\n"
     ]
    }
   ],
   "source": [
    "#metrica : test_neg_mean_squared_error\n",
    "\n",
    "cursor = db.doc_table.aggregate(\n",
    "                                [\n",
    "                                 {\n",
    "                                     \"$match\" :{\"scores.test_neg_mean_squared_error\": {\"$exists\": True}}\n",
    "                                 },\n",
    "                                 {\n",
    "                                     \"$group\" :{\n",
    "                                                \"_id\":\"total\", \n",
    "                                                \"avg\": {\"$avg\":\"$scores.test_neg_mean_squared_error\"}, \n",
    "                                                \"max\": {\"$max\":\"$scores.test_neg_mean_squared_error\"},\n",
    "                                                \"min\": {\"$min\":\"$scores.test_neg_mean_squared_error\"},\n",
    "                                                \"std\": {\"$stdDevPop\":\"$scores.test_neg_mean_squared_error\"}\n",
    "                                               }\n",
    "                                 },\n",
    "                                 {\n",
    "                                    \"$project\":{\n",
    "                                                \"avg\": 1, \n",
    "                                                \"max\": 1, \n",
    "                                                \"min\": 1, \n",
    "                                                \"std\":1\n",
    "                                               }\n",
    "                                 }\n",
    "                                ]\n",
    "                               )\n",
    "\n",
    "for doc in cursor:\n",
    "        pprint(doc)"
   ]
  },
  {
   "cell_type": "markdown",
   "metadata": {},
   "source": [
    "**Consulta B.6:** Retornar os valores mínimos, máximos, a média e o desvio padrão de alguma métrica por modelo e por base de dados"
   ]
  },
  {
   "cell_type": "code",
   "execution_count": 18,
   "metadata": {},
   "outputs": [
    {
     "name": "stdout",
     "output_type": "stream",
     "text": [
      "{'_id': ['boston', 'Ridge'],\n",
      " 'avg': -48.40339477593199,\n",
      " 'max': -34.229867008959566,\n",
      " 'min': -101.60909429226959,\n",
      " 'std': 18.128151696834493}\n",
      "{'_id': ['boston', 'SVR'],\n",
      " 'avg': -114870247.44852662,\n",
      " 'max': -33.07617655784381,\n",
      " 'min': -1142260453.7588298,\n",
      " 'std': 342468419.2586792}\n",
      "{'_id': ['boston', 'RandomForestRegressor'],\n",
      " 'avg': -26.31886570627107,\n",
      " 'max': -20.419178191577366,\n",
      " 'min': -168.01638736149246,\n",
      " 'std': 8.448814724156064}\n",
      "{'_id': ['diabetes', 'RandomForestRegressor'],\n",
      " 'avg': -3830.6074214904543,\n",
      " 'max': -3203.1687026379736,\n",
      " 'min': -7597.213229850096,\n",
      " 'std': 909.7260952971394}\n",
      "{'_id': ['diabetes', 'Ridge'],\n",
      " 'avg': -16288.553563014204,\n",
      " 'max': -2960.2471528820383,\n",
      " 'min': -29072.15791231808,\n",
      " 'std': 11972.41433638228}\n",
      "{'_id': ['diabetes', 'SVR'],\n",
      " 'avg': -5733.38575740771,\n",
      " 'max': -3226.361600074065,\n",
      " 'min': -6140.17000336499,\n",
      " 'std': 886.1432589748243}\n"
     ]
    }
   ],
   "source": [
    "#metrica : test_neg_mean_squared_error\n",
    "\n",
    "cursor = db.doc_table.aggregate(\n",
    "                                [\n",
    "                                 {\n",
    "                                     \"$match\" :{\n",
    "                                                \"scores.test_neg_mean_squared_error\": {\"$exists\": True}\n",
    "                                               }\n",
    "                                 },\n",
    "                                 {\n",
    "                                     \"$group\" :{\n",
    "                                                \"_id\":[\"$database\",\"$name\"], \n",
    "                                                \"avg\": {\"$avg\":\"$scores.test_neg_mean_squared_error\"}, \n",
    "                                                \"max\": {\"$max\":\"$scores.test_neg_mean_squared_error\"},\n",
    "                                                \"min\": {\"$min\":\"$scores.test_neg_mean_squared_error\"},\n",
    "                                                \"std\": {\"$stdDevPop\":\"$scores.test_neg_mean_squared_error\"}\n",
    "                                               }\n",
    "                                 },\n",
    "                                 {\n",
    "                                     \"$sort\": {\n",
    "                                               \"_id.0\":1\n",
    "                                              }\n",
    "                                 },\n",
    "                                 {\n",
    "                                    \"$project\":{\n",
    "                                                \"avg\": 1, \n",
    "                                                \"max\": 1, \n",
    "                                                \"min\": 1, \n",
    "                                                \"std\":1\n",
    "                                               }\n",
    "                                 }\n",
    "                                ]\n",
    "                               )\n",
    "\n",
    "for doc in cursor:\n",
    "        pprint(doc)"
   ]
  },
  {
   "cell_type": "markdown",
   "metadata": {},
   "source": [
    "Escolher, de forma geral, o melhor modelo para uma base de dados:\n",
    "\n",
    "**Consulta B.7:** Em cada base de dados, listar cada tipo de modelo treinado e suas respectivas pontuações médias em cada uma das métricas disponíveis do campo scores"
   ]
  },
  {
   "cell_type": "code",
   "execution_count": 19,
   "metadata": {},
   "outputs": [
    {
     "name": "stdout",
     "output_type": "stream",
     "text": [
      "{'_id': 'boston',\n",
      " 'scores': [{'name': 'SVR',\n",
      "             'scores': {'fit_time': 140.90892934203148,\n",
      "                        'score_time': 0.003196913003921509,\n",
      "                        'test_neg_mean_squared_error': -114870247.44852662,\n",
      "                        'test_r2': -3119607.637110291,\n",
      "                        'train_neg_mean_squared_error': -31425632.124499857,\n",
      "                        'train_r2': -389105.7175501409}},\n",
      "            {'name': 'Ridge',\n",
      "             'scores': {'fit_time': 0.0013974905014038086,\n",
      "                        'score_time': 0.001092339555422465,\n",
      "                        'test_neg_mean_squared_error': -48.40339477593199,\n",
      "                        'test_r2': 0.01241057691548702,\n",
      "                        'train_neg_mean_squared_error': -30.333858608661284,\n",
      "                        'train_r2': 0.629250481574258}},\n",
      "            {'name': 'RandomForestRegressor',\n",
      "             'scores': {'fit_time': 0.3613734987253944,\n",
      "                        'score_time': 0.023675954279800255,\n",
      "                        'test_neg_mean_squared_error': -26.31886570627107,\n",
      "                        'test_r2': 0.4757283260995036,\n",
      "                        'train_neg_mean_squared_error': -6.319248300146426,\n",
      "                        'train_r2': 0.9219137991040053}}]}\n",
      "{'_id': 'iris',\n",
      " 'scores': [{'name': 'LogisticRegression',\n",
      "             'scores': {'fit_time': 0.004603765077061123,\n",
      "                        'score_time': 0.001152530312538147,\n",
      "                        'test_accuracy': 0.8287037037037037,\n",
      "                        'test_f1_micro': 0.8287037037037037,\n",
      "                        'train_accuracy': 0.8343886649807702,\n",
      "                        'train_f1_micro': 0.8343886649807702}},\n",
      "            {'name': 'RandomForestClassifier',\n",
      "             'scores': {'fit_time': 0.12357442329327266,\n",
      "                        'score_time': 0.02684060525563028,\n",
      "                        'test_accuracy': 0.9460980160849952,\n",
      "                        'test_f1_micro': 0.9460980160849952,\n",
      "                        'train_accuracy': 0.9623815838865182,\n",
      "                        'train_f1_micro': 0.9623815838865182}}]}\n",
      "{'_id': 'diabetes',\n",
      " 'scores': [{'name': 'SVR',\n",
      "             'scores': {'fit_time': 0.003899747133255005,\n",
      "                        'score_time': 0.001853567361831665,\n",
      "                        'test_neg_mean_squared_error': -5733.38575740771,\n",
      "                        'test_r2': 0.015603919916614995,\n",
      "                        'train_neg_mean_squared_error': -5634.0823960524895,\n",
      "                        'train_r2': 0.04782113655518246}},\n",
      "            {'name': 'RandomForestRegressor',\n",
      "             'scores': {'fit_time': 0.29600278029425275,\n",
      "                        'score_time': 0.024159974418580532,\n",
      "                        'test_neg_mean_squared_error': -3830.6074214904543,\n",
      "                        'test_r2': 0.336406934857114,\n",
      "                        'train_neg_mean_squared_error': -1568.875892702547,\n",
      "                        'train_r2': 0.7348381478431859}},\n",
      "            {'name': 'Ridge',\n",
      "             'scores': {'fit_time': 0.0011571111778418224,\n",
      "                        'score_time': 0.001092325896024704,\n",
      "                        'test_neg_mean_squared_error': -16288.553563014204,\n",
      "                        'test_r2': -1.8137490160834175,\n",
      "                        'train_neg_mean_squared_error': -15800.171331290718,\n",
      "                        'train_r2': -1.6703985333915485}}]}\n",
      "{'_id': 'breast_cancer',\n",
      " 'scores': [{'name': 'LogisticRegression',\n",
      "             'scores': {'fit_time': 0.16390612269892837,\n",
      "                        'score_time': 0.0012584689891699588,\n",
      "                        'test_accuracy': 0.9416048100427101,\n",
      "                        'test_f1_micro': 0.9416048100427101,\n",
      "                        'train_accuracy': 0.9588877027690235,\n",
      "                        'train_f1_micro': 0.9588877027690235}},\n",
      "            {'name': 'RandomForestClassifier',\n",
      "             'scores': {'fit_time': 0.2255464650483595,\n",
      "                        'score_time': 0.03300645626667473,\n",
      "                        'test_accuracy': 0.9296619790127713,\n",
      "                        'test_f1_micro': 0.9296619790127713,\n",
      "                        'train_accuracy': 0.9523209264504757,\n",
      "                        'train_f1_micro': 0.9523209264504757}}]}\n"
     ]
    }
   ],
   "source": [
    "cursor = db.doc_table.aggregate(\n",
    "                                [\n",
    "                                 {\n",
    "                                     \"$set\":{\n",
    "                                             \"scoresArray\": {\"$objectToArray\": \"$scores\"},\n",
    "                                            }\n",
    "                                 },\n",
    "                                 {\n",
    "                                     \"$unwind\":\"$scoresArray\"\n",
    "                                 },\n",
    "                                 {\n",
    "                                     \"$group\":{\n",
    "                                               \"_id\":{\"database\":\"$database\", \n",
    "                                                      \"score\":\"$scoresArray.k\", \n",
    "                                                      \"name\":\"$name\"},\n",
    "                                               \"avg\":{ \"$avg\":\"$scoresArray.v\" },\n",
    "                                              }\n",
    "                                 },\n",
    "                                 {\n",
    "                                     \"$set\":{\n",
    "                                             \"database\":\"$_id.database\",\n",
    "                                             \"metric\":\"$_id.score\",\n",
    "                                             \"name\":\"$_id.name\"\n",
    "                                            }\n",
    "                                 },\n",
    "                                 {\n",
    "                                     \"$group\":{\n",
    "                                               \"_id\":{\"database\":\"$database\",\n",
    "                                                      \"name\":\"$name\"},\n",
    "                                               \"scores\":{ \"$push\":{\"k\":\"$metric\",\"v\":\"$avg\"} }\n",
    "                                              }\n",
    "                                 },\n",
    "                                 {\n",
    "                                     \"$set\":{\n",
    "                                             \"scores\":{\"$arrayToObject\": \"$scores\"}\n",
    "                                             }\n",
    "                                 },\n",
    "                                 {\n",
    "                                     \"$group\":{\n",
    "                                               \"_id\":\"$_id.database\",\n",
    "                                               \"scores\":{ \"$push\":{\"scores\":\"$scores\",\"name\":\"$_id.name\"} }\n",
    "                                              }\n",
    "                                 },\n",
    "                                ]\n",
    "                               )\n",
    "\n",
    "for doc in cursor:\n",
    "        pprint(doc)"
   ]
  },
  {
   "cell_type": "markdown",
   "metadata": {},
   "source": [
    "Encontrar o modelo com melhor desempenho:\n",
    "\n",
    "**Consulta B.8:** Encontrar os melhores modelos em *acurácia de teste* nas bases que possuem acurácia e em *Erro Quadrático Médio Negativo* nas que possuem este campo"
   ]
  },
  {
   "cell_type": "code",
   "execution_count": 38,
   "metadata": {},
   "outputs": [
    {
     "name": "stdout",
     "output_type": "stream",
     "text": [
      "{'_id': {'database': 'diabetes', 'score': 'test_neg_mean_squared_error'},\n",
      " 'bestModelName': 'Ridge',\n",
      " 'bestModelParams': {'alpha': 0.001,\n",
      "                     'copy_X': True,\n",
      "                     'fit_intercept': 1,\n",
      "                     'max_iter': None,\n",
      "                     'normalize': 0,\n",
      "                     'random_state': None,\n",
      "                     'solver': 'auto',\n",
      "                     'tol': 0.001},\n",
      " 'bestScore': -2960.2471528820383}\n",
      "{'_id': {'database': 'iris', 'score': 'test_accuracy'},\n",
      " 'bestModelName': 'RandomForestClassifier',\n",
      " 'bestModelParams': {'bootstrap': True,\n",
      "                     'class_weight': None,\n",
      "                     'criterion': 'gini',\n",
      "                     'max_depth': 10000,\n",
      "                     'max_features': 'auto',\n",
      "                     'max_leaf_nodes': 10000,\n",
      "                     'min_impurity_decrease': 0.0,\n",
      "                     'min_impurity_split': None,\n",
      "                     'min_samples_leaf': 4,\n",
      "                     'min_samples_split': 16,\n",
      "                     'min_weight_fraction_leaf': 0.0,\n",
      "                     'n_estimators': 10,\n",
      "                     'n_jobs': None,\n",
      "                     'oob_score': False,\n",
      "                     'random_state': None,\n",
      "                     'verbose': 0,\n",
      "                     'warm_start': False},\n",
      " 'bestScore': 0.9732905982905983}\n",
      "{'_id': {'database': 'breast_cancer', 'score': 'test_accuracy'},\n",
      " 'bestModelName': 'LogisticRegression',\n",
      " 'bestModelParams': {'C': 100,\n",
      "                     'class_weight': None,\n",
      "                     'dual': False,\n",
      "                     'fit_intercept': True,\n",
      "                     'intercept_scaling': 1,\n",
      "                     'max_iter': 10,\n",
      "                     'multi_class': 'auto',\n",
      "                     'n_jobs': None,\n",
      "                     'penalty': 'l1',\n",
      "                     'random_state': None,\n",
      "                     'solver': 'warn',\n",
      "                     'tol': 0.0001,\n",
      "                     'verbose': 0,\n",
      "                     'warm_start': False},\n",
      " 'bestScore': 0.9683591056830494}\n",
      "{'_id': {'database': 'boston', 'score': 'test_neg_mean_squared_error'},\n",
      " 'bestModelName': 'RandomForestRegressor',\n",
      " 'bestModelParams': {'bootstrap': True,\n",
      "                     'criterion': 'mse',\n",
      "                     'max_depth': 40,\n",
      "                     'max_features': 'auto',\n",
      "                     'max_leaf_nodes': 40,\n",
      "                     'min_impurity_decrease': 0.0,\n",
      "                     'min_impurity_split': None,\n",
      "                     'min_samples_leaf': 1,\n",
      "                     'min_samples_split': 8,\n",
      "                     'min_weight_fraction_leaf': 0.0,\n",
      "                     'n_estimators': 10,\n",
      "                     'n_jobs': None,\n",
      "                     'oob_score': False,\n",
      "                     'random_state': None,\n",
      "                     'verbose': 0,\n",
      "                     'warm_start': False},\n",
      " 'bestScore': -20.419178191577366}\n"
     ]
    }
   ],
   "source": [
    "#metrica : test_neg_mean_squared_error\n",
    "\n",
    "cursor = db.doc_table.aggregate(\n",
    "                                [\n",
    "                                 {\n",
    "                                    \"$set\":{\n",
    "                                            \"test_neg_mean_squared_error\":\"$scores.test_neg_mean_squared_error\",\n",
    "                                            \"test_accuracy\":\"$scores.test_accuracy\"\n",
    "                                           }\n",
    "                                 },\n",
    "                                 {\n",
    "                                     \"$set\":{\n",
    "                                             \"score\":{\n",
    "                                                      \"$cond\":{\n",
    "                                                               \"if\":{\"$ne\":[\"$test_accuracy\", \"$undefined\"]},\n",
    "                                                               \"then\":\"test_accuracy\",\n",
    "                                                               \"else\":\"test_neg_mean_squared_error\"\n",
    "                                                              }\n",
    "                                                     },\n",
    "                                             \"value\":{\n",
    "                                                      \"$cond\":{\n",
    "                                                               \"if\":{\"$ne\":[\"$test_accuracy\", \"$undefined\"]},\n",
    "                                                               \"then\":\"$test_accuracy\",\n",
    "                                                               \"else\":\"$test_neg_mean_squared_error\"\n",
    "                                                              }\n",
    "                                                     }\n",
    "                                            }\n",
    "                                 },\n",
    "                                 {\n",
    "                                     \"$sort\":{\n",
    "                                              \"value\":-1\n",
    "                                             }\n",
    "                                 },\n",
    "                                 {\n",
    "                                     \"$group\":{\n",
    "                                               \"_id\":{\"database\":\"$database\", \"score\":\"$score\"},\n",
    "                                               \"bestModelName\":{\"$first\":\"$name\"},\n",
    "                                               \"bestModelParams\":{\"$first\":\"$params\"},\n",
    "                                               \"bestScore\":{\"$first\":\"$value\"}\n",
    "                                              }\n",
    "                                 }\n",
    "                                ]\n",
    "                               )\n",
    "\n",
    "for doc in cursor:\n",
    "        pprint(doc)"
   ]
  },
  {
   "cell_type": "markdown",
   "metadata": {},
   "source": [
    "## Plotando alguns gráficos"
   ]
  },
  {
   "cell_type": "markdown",
   "metadata": {},
   "source": [
    "Nesta seção, nos dedicamos a estruturar consultas que nos ajudem a gerar gráficos de modo geral"
   ]
  },
  {
   "cell_type": "code",
   "execution_count": 42,
   "metadata": {},
   "outputs": [],
   "source": [
    "import matplotlib.pyplot as plt\n"
   ]
  },
  {
   "cell_type": "markdown",
   "metadata": {},
   "source": [
    "**C.1** Visualizar como o tempo de treino do modelo RandomForestRegressor varia com seu número de árvores"
   ]
  },
  {
   "cell_type": "code",
   "execution_count": 66,
   "metadata": {},
   "outputs": [
    {
     "data": {
      "image/png": "[encoded data removed]",
      "text/plain": [
       "<Figure size 432x288 with 1 Axes>"
      ]
     },
     "metadata": {
      "needs_background": "light"
     },
     "output_type": "display_data"
    }
   ],
   "source": [
    "cursor = db.doc_table.aggregate(\n",
    "                                [\n",
    "                                 {\n",
    "                                     \"$match\": {\n",
    "                                                \"name\":\"RandomForestRegressor\"\n",
    "                                               }\n",
    "                                 },\n",
    "                                 {\n",
    "                                     \"$group\": {\n",
    "                                                \"_id\":\"$params.n_estimators\", \n",
    "                                                \"fit_time\":{\"$avg\":\"$scores.fit_time\"}\n",
    "                                               }\n",
    "                                 },\n",
    "                                ]\n",
    "                               )\n",
    "list_cursor = list(cursor)\n",
    "y = [ doc['fit_time'] for doc in list_cursor ]\n",
    "x = [ doc['_id'] for doc in list_cursor ]\n",
    "\n",
    "plt.plot(x,y)\n",
    "plt.xlabel(\"Número de árvores\")\n",
    "plt.ylabel(\"Tempo de treino (s)\")\n",
    "plt.title(\"Tempo de treino de uma Random Forest Regressor\\n versus \\nNúmero de árvores\")\n",
    "plt.show()"
   ]
  },
  {
   "cell_type": "markdown",
   "metadata": {},
   "source": [
    "**C.2** Plotar o histograma de acurácias de treino de um LogisticRegressor"
   ]
  },
  {
   "cell_type": "code",
   "execution_count": 76,
   "metadata": {},
   "outputs": [
    {
     "data": {
      "image/png": "[encoded data removed]",
      "text/plain": [
       "<Figure size 432x288 with 1 Axes>"
      ]
     },
     "metadata": {
      "needs_background": "light"
     },
     "output_type": "display_data"
    }
   ],
   "source": [
    "cursor = db.doc_table.aggregate(\n",
    "                                [\n",
    "                                 {\n",
    "                                     \"$match\": {\n",
    "                                                \"name\":\"LogisticRegression\"\n",
    "                                               }\n",
    "                                 },\n",
    "                                 {\n",
    "                                     \"$group\": {\n",
    "                                                \"_id\":\"\", \n",
    "                                                \"test_accuracies\":{\"$push\":\"$scores.test_accuracy\"}\n",
    "                                               }\n",
    "                                 },\n",
    "                                ]\n",
    "                               )\n",
    "\n",
    "dist = list(cursor)[0]['test_accuracies']\n",
    "plt.hist(dist)\n",
    "plt.ylabel(\"Acurácia de teste\")\n",
    "plt.title(\"Histograma da acurácia de teste\\n dos modelos LogisticRegression\")\n",
    "plt.show()"
   ]
  },
  {
   "cell_type": "markdown",
   "metadata": {},
   "source": [
    "**C.3** Visualizar como varia o erro quadrático médio dos modelos treinados em uma base de dados com o tempo de treino"
   ]
  },
  {
   "cell_type": "code",
   "execution_count": 116,
   "metadata": {},
   "outputs": [
    {
     "data": {
      "image/png": "[encoded data removed]",
      "text/plain": [
       "<Figure size 1152x360 with 3 Axes>"
      ]
     },
     "metadata": {
      "needs_background": "light"
     },
     "output_type": "display_data"
    }
   ],
   "source": [
    "cursor = db.doc_table.aggregate(\n",
    "                                [\n",
    "                                 {\n",
    "                                     \"$match\": {\n",
    "                                                \"database\":\"boston\"\n",
    "                                               }\n",
    "                                 },\n",
    "                                 {\n",
    "                                     \"$sort\":{\n",
    "                                              \"scores.fit_time\":1\n",
    "                                             }\n",
    "                                 },\n",
    "                                 {\n",
    "                                     \"$group\": {\n",
    "                                                \"_id\":{\"database\":\"$database\", \"name\":\"$name\"},\n",
    "                                                \"fit_times\":{\"$push\":\"$scores.fit_time\"},\n",
    "                                                \"score\":{\"$push\":\"$scores.test_neg_mean_squared_error\"},\n",
    "                                               }\n",
    "                                 },\n",
    "                                ]\n",
    "                               )\n",
    "list_cursor = list(cursor)\n",
    "\n",
    "fig, axs = plt.subplots(1, len(list_cursor), figsize=(16, 5) )\n",
    "\n",
    "for i in range(len(list_cursor)):\n",
    "    x = list_cursor[i]['fit_times']\n",
    "    y = list_cursor[i]['score']\n",
    "    axs[i].plot(x, y)\n",
    "    axs[i].set_xlabel(\"Fit time(s)\")\n",
    "    axs[i].set_ylabel(\"Teste EQM Negativo\")\n",
    "    axs[i].set_title(list_cursor[i][\"_id\"][\"name\"])\n",
    "plt.show()"
   ]
  },
  {
   "cell_type": "markdown",
   "metadata": {},
   "source": [
    "**C.4** Visualizar como varia a acurácia de treino e acurácia de teste de uma LogistcRegression conforme o o valor de $log (C)$ varia"
   ]
  },
  {
   "cell_type": "code",
   "execution_count": 129,
   "metadata": {},
   "outputs": [
    {
     "data": {
      "image/png": "[encoded data removed]",
      "text/plain": [
       "<Figure size 432x288 with 1 Axes>"
      ]
     },
     "metadata": {
      "needs_background": "light"
     },
     "output_type": "display_data"
    },
    {
     "data": {
      "text/plain": [
       "[{'_id': 0.001,\n",
       "  'test_accuracies': 0.5392515348501264,\n",
       "  'train_accuracies': 0.5474180049867566,\n",
       "  'logC': -3.0},\n",
       " {'_id': 0.1,\n",
       "  'test_accuracies': 0.8541288767961303,\n",
       "  'train_accuracies': 0.8601167319191599,\n",
       "  'logC': -1.0},\n",
       " {'_id': 1.0,\n",
       "  'test_accuracies': 0.9462312270410861,\n",
       "  'train_accuracies': 0.9587887258007961,\n",
       "  'logC': 0.0},\n",
       " {'_id': 10,\n",
       "  'test_accuracies': 0.9572814867709233,\n",
       "  'train_accuracies': 0.966953892565153,\n",
       "  'logC': 1.0},\n",
       " {'_id': 100,\n",
       "  'test_accuracies': 0.9573321012581576,\n",
       "  'train_accuracies': 0.9708238553858108,\n",
       "  'logC': 2.0},\n",
       " {'_id': 1000,\n",
       "  'test_accuracies': 0.9561119957246719,\n",
       "  'train_accuracies': 0.9728604681461381,\n",
       "  'logC': 3.0}]"
      ]
     },
     "execution_count": 129,
     "metadata": {},
     "output_type": "execute_result"
    }
   ],
   "source": [
    "cursor = db.doc_table.aggregate(\n",
    "                                [\n",
    "                                 {\n",
    "                                     \"$match\": {\n",
    "                                                \"name\":\"LogisticRegression\"\n",
    "                                               }\n",
    "                                 },\n",
    "                                 \n",
    "                                 {\n",
    "                                     \"$group\": {\n",
    "                                                \"_id\":\"$params.C\", \n",
    "                                                \"test_accuracies\":{\"$avg\":\"$scores.test_accuracy\"},\n",
    "                                                \"train_accuracies\":{\"$avg\":\"$scores.train_accuracy\"},\n",
    "                                               }\n",
    "                                 },\n",
    "                                 {\n",
    "                                     \"$sort\":{\n",
    "                                         \"_id\":1\n",
    "                                     }\n",
    "                                 },\n",
    "                                 {\n",
    "                                     \"$project\":{\n",
    "                                         \"logC\":{\"$log10\":\"$_id\"},\n",
    "                                         \"test_accuracies\":1,\n",
    "                                         \"train_accuracies\":1\n",
    "                                     }\n",
    "                                 }\n",
    "                                ]\n",
    "                               )\n",
    "list_cursor = list(cursor)\n",
    "y1 = [ doc['test_accuracies'] for doc in list_cursor ]\n",
    "y2 = [ doc['train_accuracies'] for doc in list_cursor ]\n",
    "x = [ doc['logC'] for doc in list_cursor ]\n",
    "\n",
    "plt.plot(x,y1, label=\"Acurácia de teste\")\n",
    "plt.plot(x,y2, label=\"Acurácia de treino\")\n",
    "plt.xlabel(\"log10(C)\")\n",
    "plt.ylabel(\"Acurácia\")\n",
    "plt.legend()\n",
    "plt.title(\"Acurácias de treino e teste do modelo L\")\n",
    "plt.show()"
   ]
  },
  {
   "cell_type": "code",
   "execution_count": null,
   "metadata": {},
   "outputs": [],
   "source": []
  }
 ],
 "metadata": {
  "kernelspec": {
   "display_name": "Python 3",
   "language": "python",
   "name": "python3"
  },
  "language_info": {
   "codemirror_mode": {
    "name": "ipython",
    "version": 3
   },
   "file_extension": ".py",
   "mimetype": "text/x-python",
   "name": "python",
   "nbconvert_exporter": "python",
   "pygments_lexer": "ipython3",
   "version": "3.7.3"
  }
 },
 "nbformat": 4,
 "nbformat_minor": 2
}
